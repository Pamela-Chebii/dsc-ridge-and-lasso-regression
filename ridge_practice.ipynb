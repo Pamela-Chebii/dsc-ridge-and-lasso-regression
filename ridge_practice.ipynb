{
 "cells": [
  {
   "cell_type": "code",
   "execution_count": 1,
   "metadata": {},
   "outputs": [],
   "source": [
    "import pandas as pd\n",
    "from sklearn.linear_model import Lasso, Ridge, LinearRegression\n",
    "from sklearn.metrics import mean_squared_error\n",
    "from sklearn.model_selection import train_test_split\n",
    "from sklearn.preprocessing import MinMaxScaler, PolynomialFeatures\n",
    "\n",
    "data = pd.read_csv('auto-mpg.csv') \n",
    "\n",
    "y = data[['mpg']]\n",
    "X = data.drop(['mpg', 'car name', 'origin'], axis=1)\n",
    "\n",
    "# Perform test train split\n",
    "X_train , X_test, y_train, y_test = train_test_split(X, y, test_size=0.3, random_state=12)"
   ]
  },
  {
   "cell_type": "code",
   "execution_count": 3,
   "metadata": {},
   "outputs": [],
   "source": [
    "#transform the data\n",
    "scaler = MinMaxScaler()\n",
    "x_train_scaled = scaler.fit_transform(X_train)\n",
    "X_test_scaled = scaler.transform(X_test)"
   ]
  },
  {
   "cell_type": "code",
   "execution_count": 4,
   "metadata": {},
   "outputs": [
    {
     "data": {
      "text/plain": [
       "LinearRegression()"
      ]
     },
     "execution_count": 4,
     "metadata": {},
     "output_type": "execute_result"
    }
   ],
   "source": [
    "# Build a ridge, lasso and regular linear regression model  \n",
    "# Note that in scikit-learn, the regularization parameter is denoted by alpha (and not lambda)\n",
    "ridge = Ridge(alpha=0.5)\n",
    "ridge.fit(x_train_scaled, y_train)\n",
    "\n",
    "lasso = Lasso(alpha=0.5)\n",
    "lasso.fit(x_train_scaled, y_train)\n",
    "\n",
    "lin = LinearRegression()\n",
    "lin.fit(x_train_scaled, y_train)"
   ]
  },
  {
   "cell_type": "code",
   "execution_count": 5,
   "metadata": {},
   "outputs": [],
   "source": [
    "# Generate predictors for both training and test sets\n",
    "\n",
    "y_pred_ridge_train = ridge.predict(x_train_scaled)\n",
    "y_pred_ridge_test = ridge.predict(X_test_scaled)\n",
    "\n",
    "y_pred_lasso_train = lasso.predict(x_train_scaled)\n",
    "y_pred_lasso_test = lasso.predict(X_test_scaled)\n",
    "\n",
    "y_pred_lin_train = lin.predict(x_train_scaled)\n",
    "y_pred_lin_test = lin.predict(X_test_scaled)"
   ]
  },
  {
   "cell_type": "code",
   "execution_count": 9,
   "metadata": {},
   "outputs": [
    {
     "name": "stdout",
     "output_type": "stream",
     "text": [
      "Mean Squared Error Ridge Train 9.79807951552983\n",
      "Mean Squared Error Ridge Test 17.523692433834455\n",
      "\n",
      "\n",
      "Mean Squared Error Lasso Train 16.24445079708179\n",
      "Mean Squared Error Lasso Test 30.03463631503097\n",
      "\n",
      "\n",
      "Mean Squared Error Linear Train 9.700888480581275\n",
      "Mean Squared Error Linear Test 16.748025313964717\n"
     ]
    }
   ],
   "source": [
    "# MSE for train and test sets for each of the three models\n",
    "\n",
    "print(\"Mean Squared Error Ridge Train\", mean_squared_error(y_train, y_pred_ridge_train))\n",
    "print(\"Mean Squared Error Ridge Test\", mean_squared_error(y_test, y_pred_ridge_test))\n",
    "print(\"\\n\")\n",
    "\n",
    "print(\"Mean Squared Error Lasso Train\", mean_squared_error(y_train, y_pred_lasso_train))\n",
    "print(\"Mean Squared Error Lasso Test\", mean_squared_error(y_test, y_pred_lasso_test))\n",
    "print(\"\\n\")\n",
    "\n",
    "print(\"Mean Squared Error Linear Train\", mean_squared_error(y_train, y_pred_lin_train))\n",
    "print(\"Mean Squared Error Linear Test\", mean_squared_error(y_test, y_pred_lin_test))"
   ]
  },
  {
   "cell_type": "code",
   "execution_count": null,
   "metadata": {},
   "outputs": [],
   "source": [
    "# Let's see how including ridge and lasso changed our parameter estimates.\n",
    "\n"
   ]
  }
 ],
 "metadata": {
  "kernelspec": {
   "display_name": "learn-env",
   "language": "python",
   "name": "python3"
  },
  "language_info": {
   "codemirror_mode": {
    "name": "ipython",
    "version": 3
   },
   "file_extension": ".py",
   "mimetype": "text/x-python",
   "name": "python",
   "nbconvert_exporter": "python",
   "pygments_lexer": "ipython3",
   "version": "3.8.5"
  }
 },
 "nbformat": 4,
 "nbformat_minor": 2
}
